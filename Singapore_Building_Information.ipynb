{
 "cells": [
  {
   "cell_type": "code",
   "execution_count": 1,
   "metadata": {},
   "outputs": [],
   "source": [
    "import pandas as pd\n",
    "import json\n",
    "import re"
   ]
  },
  {
   "cell_type": "code",
   "execution_count": 2,
   "metadata": {},
   "outputs": [
    {
     "name": "stdout",
     "output_type": "stream",
     "text": [
      "<class 'pandas.core.frame.DataFrame'>\n",
      "RangeIndex: 141735 entries, 0 to 141734\n",
      "Data columns (total 12 columns):\n",
      "ADDRESS       141735 non-null object\n",
      "BLK_NO        141735 non-null object\n",
      "BUILDING      141735 non-null object\n",
      "LATITUDE      141735 non-null float64\n",
      "LONGITUDE     141735 non-null float64\n",
      "LONGTITUDE    141735 non-null float64\n",
      "POSTAL        141735 non-null object\n",
      "ROAD_NAME     141735 non-null object\n",
      "SEARCHVAL     141735 non-null object\n",
      "X             141735 non-null float64\n",
      "Y             141735 non-null float64\n",
      "blk_street    141735 non-null object\n",
      "dtypes: float64(5), object(7)\n",
      "memory usage: 13.0+ MB\n"
     ]
    }
   ],
   "source": [
    "# Reading in OneMap Building JSON\n",
    "# Source : https://github.com/xkjyeah/singapore-postal-codes/blob/master/buildings.json\n",
    "building_df = pd.read_json (r\"Data\\buildings.json\")\n",
    "building_df[\"blk_street\"] = building_df[\"BLK_NO\"] + \" \" + building_df[\"ROAD_NAME\"]\n",
    "\n",
    "building_df.info()"
   ]
  },
  {
   "cell_type": "code",
   "execution_count": 3,
   "metadata": {},
   "outputs": [
    {
     "name": "stdout",
     "output_type": "stream",
     "text": [
      "<class 'pandas.core.frame.DataFrame'>\n",
      "RangeIndex: 12267 entries, 0 to 12266\n",
      "Data columns (total 25 columns):\n",
      "HDB_blk_no                   12267 non-null object\n",
      "HDB_street                   12267 non-null object\n",
      "HDB_max_floor_lvl            12267 non-null int64\n",
      "HDB_year_completed           12267 non-null int64\n",
      "HDB_residential              12267 non-null object\n",
      "HDB_commercial               12267 non-null object\n",
      "HDB_market_hawker            12267 non-null object\n",
      "HDB_miscellaneous            12267 non-null object\n",
      "HDB_multistorey_carpark      12267 non-null object\n",
      "HDB_precinct_pavilion        12267 non-null object\n",
      "HDB_bldg_contract_town       12267 non-null object\n",
      "HDB_total_dwelling_units     12267 non-null int64\n",
      "HDB_1room_sold               12267 non-null int64\n",
      "HDB_2room_sold               12267 non-null int64\n",
      "HDB_3room_sold               12267 non-null int64\n",
      "HDB_4room_sold               12267 non-null int64\n",
      "HDB_5room_sold               12267 non-null int64\n",
      "HDB_exec_sold                12267 non-null int64\n",
      "HDB_multigen_sold            12267 non-null int64\n",
      "HDB_studio_apartment_sold    12267 non-null int64\n",
      "HDB_1room_rental             12267 non-null int64\n",
      "HDB_2room_rental             12267 non-null int64\n",
      "HDB_3room_rental             12267 non-null int64\n",
      "HDB_other_room_rental        12267 non-null int64\n",
      "blk_street                   12267 non-null object\n",
      "dtypes: int64(15), object(10)\n",
      "memory usage: 2.3+ MB\n"
     ]
    }
   ],
   "source": [
    "# Read in HDB Property Information \n",
    "# Source: https://data.gov.sg/dataset/hdb-property-information\n",
    "\n",
    "hdb_df = pd.read_csv (r\"Data\\hdb-property-information.csv\")\n",
    "hdb_df['street'] = hdb_df['street'].replace(regex=[' RD'], value=' ROAD')\n",
    "hdb_df['street'] = hdb_df['street'].replace(regex=[' STH'], value=' SOUTH')\n",
    "hdb_df['street'] = hdb_df['street'].replace(regex=[' NTH'], value=' NORTH')\n",
    "hdb_df['street'] = hdb_df['street'].replace(regex=['NTH '], value='NORTH ')\n",
    "hdb_df['street'] = hdb_df['street'].replace(regex=['ST. '], value='SAINT ')\n",
    "hdb_df['street'] = hdb_df['street'].replace(regex=[' CTRL'], value=' CENTRAL')\n",
    "hdb_df['street'] = hdb_df['street'].replace(regex=['BT '], value='BUKIT ')\n",
    "hdb_df['street'] = hdb_df['street'].replace(regex=['LOR '], value='LORONG ')\n",
    "hdb_df['street'] = hdb_df['street'].replace(regex=[' AVE'], value=' AVENUE')\n",
    "hdb_df['street'] = hdb_df['street'].replace(regex=[' ST'], value=' STREET')\n",
    "hdb_df['street'] = hdb_df['street'].replace(regex=[' DR'], value=' DRIVE')\n",
    "hdb_df['street'] = hdb_df['street'].replace(regex=['UPP '], value='UPPER ')\n",
    "hdb_df['street'] = hdb_df['street'].replace(regex=[' CRES'], value=' CRESCENT')\n",
    "hdb_df['street'] = hdb_df['street'].replace(regex=[' TER'], value=' TERRACE')\n",
    "hdb_df['street'] = hdb_df['street'].replace(regex=['JLN '], value='JALAN ')\n",
    "hdb_df['street'] = hdb_df['street'].replace(regex=[' CL'], value=' CLOSE')\n",
    "hdb_df['street'] = hdb_df['street'].replace(regex=['KG '], value='KAMPONG ')\n",
    "hdb_df['street'] = hdb_df['street'].replace(regex=[' GDNS'], value=' GARDENS')\n",
    "hdb_df['street'] = hdb_df['street'].replace(regex=[' HTS'], value=' HEIGHTS')\n",
    "hdb_df['street'] = hdb_df['street'].replace(regex=[\"C'WEALTH \"], value='COMMONWEALTH ')\n",
    "hdb_df['street'] = hdb_df['street'].replace(regex=[\" PK\"], value=' PARK')\n",
    "hdb_df['street'] = hdb_df['street'].replace(regex=[\" PL\"], value=' PLACE')\n",
    "hdb_df['street'] = hdb_df['street'].replace(regex=[\" PLACEAINS\"], value=' PLAINS')\n",
    "hdb_df['street'] = hdb_df['street'].replace(regex=[\" PLACEAZA\"], value=' PLAZA')\n",
    "hdb_df['street'] = hdb_df['street'].replace(regex=[\" IND EST\"], value=' INDUSTRIAL ESTATE')\n",
    "\n",
    "hdb_df[\"blk_street\"] = hdb_df[\"blk_no\"] + \" \" + hdb_df[\"street\"]\n",
    "\n",
    "hdb_df = hdb_df.add_prefix('HDB_')\n",
    "hdb_df = hdb_df.rename(columns={'HDB_blk_street': 'blk_street'})\n",
    "\n",
    "hdb_df.info()"
   ]
  },
  {
   "cell_type": "code",
   "execution_count": 4,
   "metadata": {},
   "outputs": [],
   "source": [
    "merged_df = pd.merge(building_df, hdb_df, how='left', on=\"blk_street\")"
   ]
  },
  {
   "cell_type": "code",
   "execution_count": 5,
   "metadata": {},
   "outputs": [],
   "source": [
    "writer = pd.ExcelWriter('SingaporeBuilding.xlsx')\n",
    "merged_df.to_excel(writer, \"address\") \n",
    "writer.save()"
   ]
  },
  {
   "cell_type": "code",
   "execution_count": 6,
   "metadata": {},
   "outputs": [
    {
     "name": "stdout",
     "output_type": "stream",
     "text": [
      "<class 'pandas.core.frame.DataFrame'>\n",
      "Int64Index: 141735 entries, 0 to 141734\n",
      "Data columns (total 36 columns):\n",
      "ADDRESS                      141735 non-null object\n",
      "BLK_NO                       141735 non-null object\n",
      "BUILDING                     141735 non-null object\n",
      "LATITUDE                     141735 non-null float64\n",
      "LONGITUDE                    141735 non-null float64\n",
      "LONGTITUDE                   141735 non-null float64\n",
      "POSTAL                       141735 non-null object\n",
      "ROAD_NAME                    141735 non-null object\n",
      "SEARCHVAL                    141735 non-null object\n",
      "X                            141735 non-null float64\n",
      "Y                            141735 non-null float64\n",
      "blk_street                   141735 non-null object\n",
      "HDB_blk_no                   14971 non-null object\n",
      "HDB_street                   14971 non-null object\n",
      "HDB_max_floor_lvl            14971 non-null float64\n",
      "HDB_year_completed           14971 non-null float64\n",
      "HDB_residential              14971 non-null object\n",
      "HDB_commercial               14971 non-null object\n",
      "HDB_market_hawker            14971 non-null object\n",
      "HDB_miscellaneous            14971 non-null object\n",
      "HDB_multistorey_carpark      14971 non-null object\n",
      "HDB_precinct_pavilion        14971 non-null object\n",
      "HDB_bldg_contract_town       14971 non-null object\n",
      "HDB_total_dwelling_units     14971 non-null float64\n",
      "HDB_1room_sold               14971 non-null float64\n",
      "HDB_2room_sold               14971 non-null float64\n",
      "HDB_3room_sold               14971 non-null float64\n",
      "HDB_4room_sold               14971 non-null float64\n",
      "HDB_5room_sold               14971 non-null float64\n",
      "HDB_exec_sold                14971 non-null float64\n",
      "HDB_multigen_sold            14971 non-null float64\n",
      "HDB_studio_apartment_sold    14971 non-null float64\n",
      "HDB_1room_rental             14971 non-null float64\n",
      "HDB_2room_rental             14971 non-null float64\n",
      "HDB_3room_rental             14971 non-null float64\n",
      "HDB_other_room_rental        14971 non-null float64\n",
      "dtypes: float64(20), object(16)\n",
      "memory usage: 40.0+ MB\n"
     ]
    }
   ],
   "source": [
    "merged_df.info()"
   ]
  },
  {
   "cell_type": "code",
   "execution_count": null,
   "metadata": {},
   "outputs": [],
   "source": []
  },
  {
   "cell_type": "code",
   "execution_count": null,
   "metadata": {},
   "outputs": [],
   "source": []
  },
  {
   "cell_type": "code",
   "execution_count": null,
   "metadata": {},
   "outputs": [],
   "source": []
  },
  {
   "cell_type": "code",
   "execution_count": null,
   "metadata": {},
   "outputs": [],
   "source": []
  },
  {
   "cell_type": "code",
   "execution_count": null,
   "metadata": {},
   "outputs": [],
   "source": []
  }
 ],
 "metadata": {
  "kernelspec": {
   "display_name": "Python 3",
   "language": "python",
   "name": "python3"
  },
  "language_info": {
   "codemirror_mode": {
    "name": "ipython",
    "version": 3
   },
   "file_extension": ".py",
   "mimetype": "text/x-python",
   "name": "python",
   "nbconvert_exporter": "python",
   "pygments_lexer": "ipython3",
   "version": "3.6.5"
  }
 },
 "nbformat": 4,
 "nbformat_minor": 2
}
