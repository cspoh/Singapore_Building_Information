{
 "cells": [
  {
   "cell_type": "code",
   "execution_count": null,
   "metadata": {},
   "outputs": [],
   "source": [
    "import pandas as pd\n",
    "import json\n",
    "import re"
   ]
  },
  {
   "cell_type": "code",
   "execution_count": null,
   "metadata": {},
   "outputs": [],
   "source": [
    "# Reading in OneMap Building JSON\n",
    "# Source : https://github.com/xkjyeah/singapore-postal-codes/blob/master/buildings.json\n",
    "building_df = pd.read_json (r\"Data\\buildings.json\")\n",
    "building_df[\"blk_street\"] = building_df[\"BLK_NO\"] + \" \" + building_df[\"ROAD_NAME\"]\n",
    "\n",
    "building_df.drop(['LONGTITUDE', 'X', 'Y', 'SEARCHVAL'], axis=1, inplace=True)\n",
    "\n",
    "building_df.info()"
   ]
  },
  {
   "cell_type": "code",
   "execution_count": null,
   "metadata": {},
   "outputs": [],
   "source": [
    "# Read in HDB Property Information \n",
    "# Source: https://data.gov.sg/dataset/hdb-property-information\n",
    "\n",
    "hdb_df = pd.read_csv (r\"Data\\hdb-property-information.csv\")\n",
    "hdb_df['street'] = hdb_df['street'].replace(regex=[' RD'], value=' ROAD')\n",
    "hdb_df['street'] = hdb_df['street'].replace(regex=[' STH'], value=' SOUTH')\n",
    "hdb_df['street'] = hdb_df['street'].replace(regex=[' NTH'], value=' NORTH')\n",
    "hdb_df['street'] = hdb_df['street'].replace(regex=['NTH '], value='NORTH ')\n",
    "hdb_df['street'] = hdb_df['street'].replace(regex=['ST. '], value='SAINT ')\n",
    "hdb_df['street'] = hdb_df['street'].replace(regex=[' CTRL'], value=' CENTRAL')\n",
    "hdb_df['street'] = hdb_df['street'].replace(regex=['BT '], value='BUKIT ')\n",
    "hdb_df['street'] = hdb_df['street'].replace(regex=['LOR '], value='LORONG ')\n",
    "hdb_df['street'] = hdb_df['street'].replace(regex=[' AVE'], value=' AVENUE')\n",
    "hdb_df['street'] = hdb_df['street'].replace(regex=[' ST'], value=' STREET')\n",
    "hdb_df['street'] = hdb_df['street'].replace(regex=[' DR'], value=' DRIVE')\n",
    "hdb_df['street'] = hdb_df['street'].replace(regex=['UPP '], value='UPPER ')\n",
    "hdb_df['street'] = hdb_df['street'].replace(regex=[' CRES'], value=' CRESCENT')\n",
    "hdb_df['street'] = hdb_df['street'].replace(regex=[' TER'], value=' TERRACE')\n",
    "hdb_df['street'] = hdb_df['street'].replace(regex=['JLN '], value='JALAN ')\n",
    "hdb_df['street'] = hdb_df['street'].replace(regex=[' CL'], value=' CLOSE')\n",
    "hdb_df['street'] = hdb_df['street'].replace(regex=['KG '], value='KAMPONG ')\n",
    "hdb_df['street'] = hdb_df['street'].replace(regex=[' GDNS'], value=' GARDENS')\n",
    "hdb_df['street'] = hdb_df['street'].replace(regex=[' HTS'], value=' HEIGHTS')\n",
    "hdb_df['street'] = hdb_df['street'].replace(regex=[\"C'WEALTH \"], value='COMMONWEALTH ')\n",
    "hdb_df['street'] = hdb_df['street'].replace(regex=[\" PK\"], value=' PARK')\n",
    "hdb_df['street'] = hdb_df['street'].replace(regex=[\" PL\"], value=' PLACE')\n",
    "hdb_df['street'] = hdb_df['street'].replace(regex=[\" PLACEAINS\"], value=' PLAINS')\n",
    "hdb_df['street'] = hdb_df['street'].replace(regex=[\" PLACEAZA\"], value=' PLAZA')\n",
    "hdb_df['street'] = hdb_df['street'].replace(regex=[\" IND EST\"], value=' INDUSTRIAL ESTATE')\n",
    "\n",
    "hdb_df[\"blk_street\"] = hdb_df[\"blk_no\"] + \" \" + hdb_df[\"street\"]\n",
    "\n",
    "hdb_df = hdb_df.add_prefix('HDB_')\n",
    "hdb_df = hdb_df.rename(columns={'HDB_blk_street': 'blk_street'})\n",
    "\n",
    "hdb_df.info()"
   ]
  },
  {
   "cell_type": "code",
   "execution_count": null,
   "metadata": {},
   "outputs": [],
   "source": [
    "merged_df = pd.merge(building_df, hdb_df, how='left', on=\"blk_street\")\n",
    "\n",
    "merged_df.drop(['blk_street', 'HDB_blk_no', 'HDB_street'], axis=1, inplace=True)"
   ]
  },
  {
   "cell_type": "code",
   "execution_count": null,
   "metadata": {},
   "outputs": [],
   "source": [
    "merged_df.info()"
   ]
  },
  {
   "cell_type": "code",
   "execution_count": null,
   "metadata": {},
   "outputs": [],
   "source": [
    "commercial_df = pd.read_excel (r\"Data\\Commercial Property Info.xlsx\")\n",
    "\n",
    "commercial_df = commercial_df.add_prefix('PRI_')\n",
    "commercial_df = commercial_df.rename(columns={'PRI_Postal Code': 'POSTAL'})\n",
    "commercial_df.drop(['PRI_Unnamed: 0', 'PRI_District Code'], inplace=True, axis=1)\n",
    "\n",
    "merged_df = pd.merge(merged_df, commercial_df, how='left', on=\"POSTAL\")"
   ]
  },
  {
   "cell_type": "code",
   "execution_count": null,
   "metadata": {},
   "outputs": [],
   "source": [
    "district_df = pd.read_excel (r\"Data\\PostalDistrict.xlsx\")\n",
    "\n",
    "dict_district = {}\n",
    "for index, row in district_df.iterrows():\n",
    "    res = str(row['Postal Sector']).split(',')\n",
    "    \n",
    "    for r in res:\n",
    "        dict_district[str(r).strip()] = row['Postal District']\n"
   ]
  },
  {
   "cell_type": "code",
   "execution_count": null,
   "metadata": {},
   "outputs": [],
   "source": [
    "def computePostalDistrict(row):\n",
    "    try:\n",
    "        code = row['POSTAL'][:2]\n",
    "\n",
    "        return dict_district[code]\n",
    "    except:\n",
    "        return ''\n",
    "    "
   ]
  },
  {
   "cell_type": "code",
   "execution_count": null,
   "metadata": {},
   "outputs": [],
   "source": [
    "merged_df['POSTAL_DISTRICT'] = merged_df.apply(lambda row: computePostalDistrict(row), axis=1)"
   ]
  },
  {
   "cell_type": "code",
   "execution_count": null,
   "metadata": {},
   "outputs": [],
   "source": [
    "merged_df.info()"
   ]
  },
  {
   "cell_type": "code",
   "execution_count": null,
   "metadata": {},
   "outputs": [],
   "source": [
    "writer = pd.ExcelWriter('SingaporeBuilding.xlsx')\n",
    "merged_df.to_excel(writer, \"address\") \n",
    "writer.save()"
   ]
  }
 ],
 "metadata": {
  "kernelspec": {
   "display_name": "Python 3",
   "language": "python",
   "name": "python3"
  },
  "language_info": {
   "codemirror_mode": {
    "name": "ipython",
    "version": 3
   },
   "file_extension": ".py",
   "mimetype": "text/x-python",
   "name": "python",
   "nbconvert_exporter": "python",
   "pygments_lexer": "ipython3",
   "version": "3.7.6"
  }
 },
 "nbformat": 4,
 "nbformat_minor": 2
}
